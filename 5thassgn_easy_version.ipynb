{
 "cells": [
  {
   "cell_type": "code",
   "execution_count": 1,
   "metadata": {},
   "outputs": [
    {
     "name": "stdout",
     "output_type": "stream",
     "text": [
      "1.Book Plane 2.Book Train 3. Book Taxi\n",
      "0 to stop1\n",
      "1.Air India 2.Indigo 3.SpiceJet3\n",
      "SpiceJet Website available\n",
      "1.Book Plane 2.Book Train 3. Book Taxi\n",
      "0 to stop2\n",
      "1.IRCTC 2.RailYatra 3.BookTrain3\n",
      "BookTrain Website available\n",
      "1.Book Plane 2.Book Train 3. Book Taxi\n",
      "0 to stop0\n",
      "Thank you\n",
      "Thank you\n"
     ]
    }
   ],
   "source": [
    "i = 7\n",
    "while(i!=0):\n",
    "    i = int(input(\"1.Book Plane 2.Book Train 3. Book Taxi\\n0 to stop\"))\n",
    "    if(i==1):\n",
    "        i = int(input(\"1.Air India 2.Indigo 3.SpiceJet\"))\n",
    "        if(i==1):\n",
    "            print(\"Air India website and app is available\")\n",
    "        elif(i==2):\n",
    "            print(\"Indigo Website available\")\n",
    "        elif (i==3):\n",
    "            print(\"SpiceJet Website available\")\n",
    "        else:\n",
    "            print(\"Invalid input, retry\")\n",
    "            break\n",
    "    elif(i==2):\n",
    "        i = int(input(\"1.IRCTC 2.RailYatra 3.BookTrain\"))\n",
    "        if(i==1):\n",
    "            print(\"IRCTC website and app is available\")\n",
    "        elif(i==2):\n",
    "            print(\"RailYatra Website available\")\n",
    "        elif (i==3):\n",
    "            print(\"BookTrain Website available\")\n",
    "        else:\n",
    "            print(\"Invalid input, retry\")\n",
    "            break\n",
    "    elif(i==3):\n",
    "        i = int(input(\"1.Ola 2.Uber 3.Meru\"))\n",
    "        if(i==1):\n",
    "            print(\"Ola website and app is available\")\n",
    "        elif(i==2):\n",
    "            print(\"Uber Website available\")\n",
    "        elif (i==3):\n",
    "            print(\"Meru Website available\")\n",
    "        else:\n",
    "            print(\"Invalid input, retry\")\n",
    "            break\n",
    "    elif(i==0):\n",
    "        print(\"Thank you\")\n",
    "    else:\n",
    "        print(\"Invalid input, retry\")\n",
    "        break\n",
    "print(\"Thank you\")\n",
    "    "
   ]
  },
  {
   "cell_type": "code",
   "execution_count": null,
   "metadata": {},
   "outputs": [],
   "source": []
  }
 ],
 "metadata": {
  "kernelspec": {
   "display_name": "Python 3",
   "language": "python",
   "name": "python3"
  },
  "language_info": {
   "codemirror_mode": {
    "name": "ipython",
    "version": 3
   },
   "file_extension": ".py",
   "mimetype": "text/x-python",
   "name": "python",
   "nbconvert_exporter": "python",
   "pygments_lexer": "ipython3",
   "version": "3.8.5"
  }
 },
 "nbformat": 4,
 "nbformat_minor": 5
}
