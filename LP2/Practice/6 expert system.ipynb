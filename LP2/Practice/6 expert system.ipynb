{
 "cells": [
  {
   "cell_type": "code",
   "execution_count": 13,
   "metadata": {},
   "outputs": [
    {
     "name": "stdout",
     "output_type": "stream",
     "text": [
      "Do you have cold?\n",
      "Enter answer y/n:n\n",
      "Do you have fever?\n",
      "Enter answer y/n:n\n",
      "Do you have sore throat?\n",
      "Enter answer y/n:n\n",
      "Have you been in contact with a covid patient?\n",
      "Enter answer y/n:n\n",
      "Do you feel exhausted without doing anything?\n",
      "Enter answer y/n:n\n",
      "Do you sweat excessively?\n",
      "Enter answer y/n:n\n",
      "Do you have runny nose?\n",
      "Enter answer y/n:n\n",
      "Do you have a stuffy nose?\n",
      "Enter answer y/n:n\n",
      "Do you have headache?\n",
      "Enter answer y/n:n\n",
      "Nothing!\n"
     ]
    }
   ],
   "source": [
    "QUESTIONS=[\n",
    "    'Do you have cold?',\n",
    "    'Do you have fever?',\n",
    "    'Do you have sore throat?',\n",
    "    'Have you been in contact with a covid patient?',\n",
    "    'Do you feel exhausted without doing anything?',\n",
    "    'Do you sweat excessively?',\n",
    "    'Do you have runny nose?',\n",
    "    'Do you have a stuffy nose?',\n",
    "    'Do you have headache?'\n",
    "]\n",
    "THRESHOLD={\n",
    "    'mild':30,\n",
    "    'moderate':50,\n",
    "    'severe':70\n",
    "}\n",
    "def expertsystem(questions,threshold):\n",
    "    score=0\n",
    "    for question in questions:\n",
    "        print(question)\n",
    "        ans=input('Enter answer y/n:')\n",
    "        if ans.lower()=='y':\n",
    "            level=int(input('Enter the severity between 1 to 10:'))\n",
    "            score+=level\n",
    "    if score>=threshold['severe']:\n",
    "        print('You are at high risk of being covid infected')\n",
    "    elif score>=threshold['moderate']:\n",
    "        print('You are at moderate risk of being covid infected')\n",
    "    elif score>=threshold['mild']:\n",
    "        print('You are at a mild risk of being covid infected')\n",
    "    else:\n",
    "        print('Nothing!')    \n",
    "expertsystem(QUESTIONS, THRESHOLD)"
   ]
  }
 ],
 "metadata": {
  "kernelspec": {
   "display_name": "Python 3",
   "language": "python",
   "name": "python3"
  },
  "language_info": {
   "codemirror_mode": {
    "name": "ipython",
    "version": 3
   },
   "file_extension": ".py",
   "mimetype": "text/x-python",
   "name": "python",
   "nbconvert_exporter": "python",
   "pygments_lexer": "ipython3",
   "version": "3.8.5"
  }
 },
 "nbformat": 4,
 "nbformat_minor": 4
}
