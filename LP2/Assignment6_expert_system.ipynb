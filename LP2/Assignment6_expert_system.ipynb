{
 "cells": [
  {
   "cell_type": "code",
   "execution_count": 1,
   "metadata": {},
   "outputs": [
    {
     "name": "stdout",
     "output_type": "stream",
     "text": [
      "Do you have cough?\n",
      "Answer y/nn\n",
      "Do you have a sore throat?\n",
      "Answer y/nn\n",
      "Do you have a fever?\n",
      "Answer y/nn\n",
      "Are you noticing any unexplained excessive sweating?\n",
      "Answer y/nn\n",
      "Do you have an itchy throat?\n",
      "Answer y/nn\n",
      "Do you have a runny nose?\n",
      "Answer y/nn\n",
      "Do you have a stuffy nose?\n",
      "Answer y/nn\n",
      "Do you have a headache?\n",
      "Answer y/nn\n",
      "Do you feel tired without actually exhausting yourself?\n",
      "Answer y/nn\n",
      "\n",
      "nothing\n"
     ]
    }
   ],
   "source": [
    "QUESTIONS = [\n",
    "    'Do you have cough?',\n",
    "    'Do you have a sore throat?',\n",
    "    'Do you have a fever?',\n",
    "    'Are you noticing any unexplained excessive sweating?',\n",
    "    'Do you have an itchy throat?',\n",
    "    'Do you have a runny nose?',\n",
    "    'Do you have a stuffy nose?',\n",
    "    'Do you have a headache?',\n",
    "    'Do you feel tired without actually exhausting yourself?'\n",
    "]\n",
    "\n",
    "\n",
    "THRESHOLD = {\n",
    "    'Mild' : 30,\n",
    "    'Moderate' : 50,\n",
    "    'Severe': 75\n",
    "}\n",
    "\n",
    "\n",
    "def expertSystem(questions, threshold):\n",
    "    score = 0\n",
    "\n",
    "    for question in questions:\n",
    "        print(question)\n",
    "        ans = input('Answer y/n')\n",
    "\n",
    "        if(ans.lower() == 'y'):\n",
    "            level = input('On a scale of 0 to 10, how severe is it?')\n",
    "            score += int(level)\n",
    "\n",
    "    print()\n",
    "\n",
    "    if score >= threshold['Severe']:\n",
    "        print('You are in a severe condition')\n",
    "    elif score >= threshold['Moderate']:\n",
    "        print('moderate')\n",
    "    elif score >= threshold['Mild']:\n",
    "        print('Mild')\n",
    "    else:\n",
    "        print('nothing')\n",
    "\n",
    "\n",
    "expertSystem(QUESTIONS, THRESHOLD) "
   ]
  },
  {
   "cell_type": "code",
   "execution_count": null,
   "metadata": {},
   "outputs": [],
   "source": []
  }
 ],
 "metadata": {
  "kernelspec": {
   "display_name": "Python 3",
   "language": "python",
   "name": "python3"
  },
  "language_info": {
   "codemirror_mode": {
    "name": "ipython",
    "version": 3
   },
   "file_extension": ".py",
   "mimetype": "text/x-python",
   "name": "python",
   "nbconvert_exporter": "python",
   "pygments_lexer": "ipython3",
   "version": "3.8.5"
  }
 },
 "nbformat": 4,
 "nbformat_minor": 4
}
