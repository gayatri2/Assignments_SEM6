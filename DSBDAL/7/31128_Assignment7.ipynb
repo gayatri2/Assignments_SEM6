{
 "cells": [
  {
   "cell_type": "code",
   "execution_count": 1,
   "id": "adbddb20",
   "metadata": {},
   "outputs": [
    {
     "name": "stderr",
     "output_type": "stream",
     "text": [
      "[nltk_data] Downloading package punkt to /home/pict/nltk_data...\n",
      "[nltk_data]   Package punkt is already up-to-date!\n",
      "[nltk_data] Downloading package stopwords to /home/pict/nltk_data...\n",
      "[nltk_data]   Package stopwords is already up-to-date!\n",
      "[nltk_data] Downloading package averaged_perceptron_tagger to\n",
      "[nltk_data]     /home/pict/nltk_data...\n",
      "[nltk_data]   Unzipping taggers/averaged_perceptron_tagger.zip.\n"
     ]
    }
   ],
   "source": [
    "import pandas as pd\n",
    "from sklearn.feature_extraction.text import TfidfVectorizer\n",
    "from nltk import word_tokenize, sent_tokenize\n",
    "import nltk\n",
    "nltk.download('punkt')\n",
    "from nltk.corpus import stopwords \n",
    "nltk.download('stopwords')\n",
    "from nltk.stem import PorterStemmer\n",
    "nltk.download('averaged_perceptron_tagger')\n",
    "from nltk import pos_tag "
   ]
  },
  {
   "cell_type": "code",
   "execution_count": 2,
   "id": "3b5dade6",
   "metadata": {},
   "outputs": [],
   "source": [
    "sent = \"Millions of people in India took part in an annual tree planting drive Sunday. More than 250 million saplings were planted in a single day across the country's most-populous state.\""
   ]
  },
  {
   "cell_type": "code",
   "execution_count": 3,
   "id": "a668fe20",
   "metadata": {},
   "outputs": [
    {
     "name": "stdout",
     "output_type": "stream",
     "text": [
      "['Millions', 'of', 'people', 'in', 'India', 'took', 'part', 'in', 'an', 'annual', 'tree', 'planting', 'drive', 'Sunday', '.', 'More', 'than', '250', 'million', 'saplings', 'were', 'planted', 'in', 'a', 'single', 'day', 'across', 'the', 'country', \"'s\", 'most-populous', 'state', '.']\n"
     ]
    }
   ],
   "source": [
    "print(word_tokenize(sent)) #split into different words"
   ]
  },
  {
   "cell_type": "code",
   "execution_count": 4,
   "id": "766e3c51",
   "metadata": {},
   "outputs": [
    {
     "name": "stdout",
     "output_type": "stream",
     "text": [
      "['Millions of people in India took part in an annual tree planting drive Sunday.', \"More than 250 million saplings were planted in a single day across the country's most-populous state.\"]\n"
     ]
    }
   ],
   "source": [
    "print(sent_tokenize(sent)) #split into different sentences"
   ]
  },
  {
   "cell_type": "code",
   "execution_count": 5,
   "id": "d2aaa23f",
   "metadata": {},
   "outputs": [],
   "source": [
    "stop_words = stopwords.words('english') #remove articles, prepositions"
   ]
  },
  {
   "cell_type": "code",
   "execution_count": 6,
   "id": "ee5ca4a8",
   "metadata": {},
   "outputs": [
    {
     "name": "stdout",
     "output_type": "stream",
     "text": [
      "This is the unclean version: ['Millions', 'of', 'people', 'in', 'India', 'took', 'part', 'in', 'an', 'annual', 'tree', 'planting', 'drive', 'Sunday', '.', 'More', 'than', '250', 'million', 'saplings', 'were', 'planted', 'in', 'a', 'single', 'day', 'across', 'the', 'country', \"'s\", 'most-populous', 'state', '.']\n",
      "This is the cleaned version: ['Millions', 'people', 'India', 'took', 'part', 'annual', 'tree', 'planting', 'drive', 'Sunday', '.', 'More', '250', 'million', 'saplings', 'planted', 'single', 'day', 'across', 'country', \"'s\", 'most-populous', 'state', '.']\n"
     ]
    }
   ],
   "source": [
    "cleaned_token = []\n",
    "token = word_tokenize(sent)\n",
    "for word in token:\n",
    "    if word not in stop_words:\n",
    "        cleaned_token.append(word)\n",
    "print(\"This is the unclean version:\", token)\n",
    "print(\"This is the cleaned version:\", cleaned_token)"
   ]
  },
  {
   "cell_type": "code",
   "execution_count": 7,
   "id": "81232fb1",
   "metadata": {},
   "outputs": [
    {
     "name": "stdout",
     "output_type": "stream",
     "text": [
      "['plant', 'plant', 'plant', 'plant']\n"
     ]
    }
   ],
   "source": [
    "stemmer = PorterStemmer()\n",
    "words = ['plant', 'planting', 'plants', 'planted']\n",
    "stemmed = [stemmer.stem(word) for word in words]\n",
    "print(stemmed)"
   ]
  },
  {
   "cell_type": "code",
   "execution_count": 8,
   "id": "6571a178",
   "metadata": {},
   "outputs": [
    {
     "name": "stdout",
     "output_type": "stream",
     "text": [
      "million of peopl in india took part in an annual tree plant drive sunday . more than 250 million sapl were plant in a singl day across the countri 's most-popul state . \n"
     ]
    }
   ],
   "source": [
    "token = word_tokenize(sent)\n",
    "stemmed = \"\"\n",
    "for word in token:\n",
    "    stemmed += stemmer.stem(word) + \" \"\n",
    "print(stemmed)"
   ]
  },
  {
   "cell_type": "code",
   "execution_count": 9,
   "id": "c08f330e",
   "metadata": {},
   "outputs": [],
   "source": [
    "sent2 = \"The campaign was led by Uttar Pradesh state government officials, lawmakers, and activists, in a bid to reduce carbon emissions and combat climate change\""
   ]
  },
  {
   "cell_type": "code",
   "execution_count": 10,
   "id": "67271014",
   "metadata": {},
   "outputs": [
    {
     "name": "stdout",
     "output_type": "stream",
     "text": [
      "['The', 'campaign', 'was', 'led', 'by', 'Uttar', 'Pradesh', 'state', 'government', 'officials', ',', 'lawmakers', ',', 'and', 'activists', ',', 'in', 'a', 'bid', 'to', 'reduce', 'carbon', 'emissions', 'and', 'combat', 'climate', 'change']\n"
     ]
    }
   ],
   "source": [
    "print(word_tokenize(sent2))"
   ]
  },
  {
   "cell_type": "code",
   "execution_count": 11,
   "id": "d1cb771a",
   "metadata": {},
   "outputs": [
    {
     "name": "stdout",
     "output_type": "stream",
     "text": [
      "['The campaign was led by Uttar Pradesh state government officials, lawmakers, and activists, in a bid to reduce carbon emissions and combat climate change']\n"
     ]
    }
   ],
   "source": [
    "print(sent_tokenize(sent2))"
   ]
  },
  {
   "cell_type": "code",
   "execution_count": 12,
   "id": "e0ddced6",
   "metadata": {},
   "outputs": [
    {
     "name": "stdout",
     "output_type": "stream",
     "text": [
      "This is the unclean version: ['The', 'campaign', 'was', 'led', 'by', 'Uttar', 'Pradesh', 'state', 'government', 'officials', ',', 'lawmakers', ',', 'and', 'activists', ',', 'in', 'a', 'bid', 'to', 'reduce', 'carbon', 'emissions', 'and', 'combat', 'climate', 'change']\n",
      "This is the cleaned version: ['The', 'campaign', 'led', 'Uttar', 'Pradesh', 'state', 'government', 'officials', ',', 'lawmakers', ',', 'activists', ',', 'bid', 'reduce', 'carbon', 'emissions', 'combat', 'climate', 'change']\n"
     ]
    }
   ],
   "source": [
    "cleaned_token = []\n",
    "token = word_tokenize(sent2)\n",
    "for word in token:\n",
    "    if word not in stop_words:\n",
    "        cleaned_token.append(word)\n",
    "print(\"This is the unclean version:\", token)\n",
    "print(\"This is the cleaned version:\", cleaned_token)"
   ]
  },
  {
   "cell_type": "code",
   "execution_count": 13,
   "id": "3b66b16e",
   "metadata": {},
   "outputs": [
    {
     "name": "stdout",
     "output_type": "stream",
     "text": [
      "the campaign wa led by uttar pradesh state govern offici , lawmak , and activist , in a bid to reduc carbon emiss and combat climat chang \n"
     ]
    }
   ],
   "source": [
    "token = word_tokenize(sent2)\n",
    "stemmed = \"\"\n",
    "for word in token:\n",
    "    stemmed += stemmer.stem(word) + \" \"\n",
    "print(stemmed)"
   ]
  },
  {
   "cell_type": "code",
   "execution_count": 14,
   "id": "05a114d7",
   "metadata": {},
   "outputs": [
    {
     "name": "stdout",
     "output_type": "stream",
     "text": [
      "[('The', 'DT'), ('campaign', 'NN'), ('led', 'VBD'), ('Uttar', 'NNP'), ('Pradesh', 'NNP'), ('state', 'NN'), ('government', 'NN'), ('officials', 'NNS'), (',', ','), ('lawmakers', 'NNS'), (',', ','), ('activists', 'NNS'), (',', ','), ('bid', 'NN'), ('reduce', 'VB'), ('carbon', 'NN'), ('emissions', 'NNS'), ('combat', 'VBP'), ('climate', 'NN'), ('change', 'NN')]\n"
     ]
    }
   ],
   "source": [
    "token = word_tokenize(sent) + word_tokenize(sent2)\n",
    "tagged = pos_tag(cleaned_token)                 \n",
    "print(tagged)"
   ]
  },
  {
   "cell_type": "code",
   "execution_count": 15,
   "id": "e3985bcf",
   "metadata": {},
   "outputs": [],
   "source": [
    "def computeTF(wordDict, bagOfWords):\n",
    "    tfDict = {}\n",
    "    bagOfWordsCount = len(bagOfWords)\n",
    "    for word, count in wordDict.items():\n",
    "        tfDict[word] = count / float(bagOfWordsCount)\n",
    "    return tfDict"
   ]
  },
  {
   "cell_type": "code",
   "execution_count": 16,
   "id": "0954d2c5",
   "metadata": {},
   "outputs": [],
   "source": [
    "bagOfWordsA = sent.split(' ')\n",
    "bagOfWordsB = sent2.split(' ')"
   ]
  },
  {
   "cell_type": "code",
   "execution_count": 17,
   "id": "3bba3ae7",
   "metadata": {},
   "outputs": [],
   "source": [
    "uniqueWords = set(bagOfWordsA).union(set(bagOfWordsB))"
   ]
  },
  {
   "cell_type": "code",
   "execution_count": 18,
   "id": "dd9ff87d",
   "metadata": {},
   "outputs": [],
   "source": [
    "numOfWordsA = dict.fromkeys(uniqueWords, 0)\n",
    "for word in bagOfWordsA:\n",
    "    numOfWordsA[word] += 1\n",
    "numOfWordsB = dict.fromkeys(uniqueWords, 0)\n",
    "for word in bagOfWordsB:\n",
    "    numOfWordsB[word] += 1"
   ]
  },
  {
   "cell_type": "code",
   "execution_count": 19,
   "id": "b329f620",
   "metadata": {},
   "outputs": [],
   "source": [
    "tfA = computeTF(numOfWordsA, bagOfWordsA)\n",
    "tfB = computeTF(numOfWordsB, bagOfWordsB)"
   ]
  },
  {
   "cell_type": "code",
   "execution_count": 20,
   "id": "7937e632",
   "metadata": {},
   "outputs": [
    {
     "name": "stdout",
     "output_type": "stream",
     "text": [
      "{'annual': 0.03333333333333333, 'Pradesh': 0.0, 'combat': 0.0, 'activists,': 0.0, 'of': 0.03333333333333333, 'carbon': 0.0, 'day': 0.03333333333333333, 'across': 0.03333333333333333, '250': 0.03333333333333333, 'led': 0.0, 'part': 0.03333333333333333, 'were': 0.03333333333333333, 'the': 0.03333333333333333, 'million': 0.03333333333333333, 'people': 0.03333333333333333, 'than': 0.03333333333333333, 'bid': 0.0, 'saplings': 0.03333333333333333, 'planting': 0.03333333333333333, 'tree': 0.03333333333333333, 'officials,': 0.0, 'lawmakers,': 0.0, 'climate': 0.0, 'and': 0.0, 'an': 0.03333333333333333, 'government': 0.0, 'emissions': 0.0, 'was': 0.0, 'reduce': 0.0, 'in': 0.1, 'change': 0.0, 'Sunday.': 0.03333333333333333, 'More': 0.03333333333333333, 'a': 0.03333333333333333, 'planted': 0.03333333333333333, 'state': 0.0, 'most-populous': 0.03333333333333333, 'drive': 0.03333333333333333, 'single': 0.03333333333333333, 'to': 0.0, 'The': 0.0, 'campaign': 0.0, 'state.': 0.03333333333333333, 'Uttar': 0.0, 'Millions': 0.03333333333333333, 'by': 0.0, 'India': 0.03333333333333333, 'took': 0.03333333333333333, \"country's\": 0.03333333333333333}\n"
     ]
    }
   ],
   "source": [
    "print(tfA)"
   ]
  },
  {
   "cell_type": "code",
   "execution_count": 21,
   "id": "422b04c4",
   "metadata": {},
   "outputs": [
    {
     "name": "stdout",
     "output_type": "stream",
     "text": [
      "{'annual': 0.0, 'Pradesh': 0.041666666666666664, 'combat': 0.041666666666666664, 'activists,': 0.041666666666666664, 'of': 0.0, 'carbon': 0.041666666666666664, 'day': 0.0, 'across': 0.0, '250': 0.0, 'led': 0.041666666666666664, 'part': 0.0, 'were': 0.0, 'the': 0.0, 'million': 0.0, 'people': 0.0, 'than': 0.0, 'bid': 0.041666666666666664, 'saplings': 0.0, 'planting': 0.0, 'tree': 0.0, 'officials,': 0.041666666666666664, 'lawmakers,': 0.041666666666666664, 'climate': 0.041666666666666664, 'and': 0.08333333333333333, 'an': 0.0, 'government': 0.041666666666666664, 'emissions': 0.041666666666666664, 'was': 0.041666666666666664, 'reduce': 0.041666666666666664, 'in': 0.041666666666666664, 'change': 0.041666666666666664, 'Sunday.': 0.0, 'More': 0.0, 'a': 0.041666666666666664, 'planted': 0.0, 'state': 0.041666666666666664, 'most-populous': 0.0, 'drive': 0.0, 'single': 0.0, 'to': 0.041666666666666664, 'The': 0.041666666666666664, 'campaign': 0.041666666666666664, 'state.': 0.0, 'Uttar': 0.041666666666666664, 'Millions': 0.0, 'by': 0.041666666666666664, 'India': 0.0, 'took': 0.0, \"country's\": 0.0}\n"
     ]
    }
   ],
   "source": [
    "print(tfB)"
   ]
  },
  {
   "cell_type": "code",
   "execution_count": 22,
   "id": "e6dd1bf7",
   "metadata": {},
   "outputs": [],
   "source": [
    "def computeIDF(documents):\n",
    "    import math\n",
    "    N = len(documents)\n",
    "    \n",
    "    idfDict = dict.fromkeys(documents[0].keys(), 0)\n",
    "    for document in documents:\n",
    "        for word, val in document.items():\n",
    "            if val > 0:\n",
    "                idfDict[word] += 1\n",
    "    \n",
    "    for word, val in idfDict.items():\n",
    "        idfDict[word] = math.log(N / float(val))\n",
    "    return idfDict"
   ]
  },
  {
   "cell_type": "code",
   "execution_count": 23,
   "id": "61a9fa7e",
   "metadata": {},
   "outputs": [],
   "source": [
    "idfs = computeIDF([numOfWordsA, numOfWordsB])"
   ]
  },
  {
   "cell_type": "code",
   "execution_count": 24,
   "id": "1fd93c79",
   "metadata": {},
   "outputs": [
    {
     "data": {
      "text/plain": [
       "{'annual': 0.6931471805599453,\n",
       " 'Pradesh': 0.6931471805599453,\n",
       " 'combat': 0.6931471805599453,\n",
       " 'activists,': 0.6931471805599453,\n",
       " 'of': 0.6931471805599453,\n",
       " 'carbon': 0.6931471805599453,\n",
       " 'day': 0.6931471805599453,\n",
       " 'across': 0.6931471805599453,\n",
       " '250': 0.6931471805599453,\n",
       " 'led': 0.6931471805599453,\n",
       " 'part': 0.6931471805599453,\n",
       " 'were': 0.6931471805599453,\n",
       " 'the': 0.6931471805599453,\n",
       " 'million': 0.6931471805599453,\n",
       " 'people': 0.6931471805599453,\n",
       " 'than': 0.6931471805599453,\n",
       " 'bid': 0.6931471805599453,\n",
       " 'saplings': 0.6931471805599453,\n",
       " 'planting': 0.6931471805599453,\n",
       " 'tree': 0.6931471805599453,\n",
       " 'officials,': 0.6931471805599453,\n",
       " 'lawmakers,': 0.6931471805599453,\n",
       " 'climate': 0.6931471805599453,\n",
       " 'and': 0.6931471805599453,\n",
       " 'an': 0.6931471805599453,\n",
       " 'government': 0.6931471805599453,\n",
       " 'emissions': 0.6931471805599453,\n",
       " 'was': 0.6931471805599453,\n",
       " 'reduce': 0.6931471805599453,\n",
       " 'in': 0.0,\n",
       " 'change': 0.6931471805599453,\n",
       " 'Sunday.': 0.6931471805599453,\n",
       " 'More': 0.6931471805599453,\n",
       " 'a': 0.0,\n",
       " 'planted': 0.6931471805599453,\n",
       " 'state': 0.6931471805599453,\n",
       " 'most-populous': 0.6931471805599453,\n",
       " 'drive': 0.6931471805599453,\n",
       " 'single': 0.6931471805599453,\n",
       " 'to': 0.6931471805599453,\n",
       " 'The': 0.6931471805599453,\n",
       " 'campaign': 0.6931471805599453,\n",
       " 'state.': 0.6931471805599453,\n",
       " 'Uttar': 0.6931471805599453,\n",
       " 'Millions': 0.6931471805599453,\n",
       " 'by': 0.6931471805599453,\n",
       " 'India': 0.6931471805599453,\n",
       " 'took': 0.6931471805599453,\n",
       " \"country's\": 0.6931471805599453}"
      ]
     },
     "execution_count": 24,
     "metadata": {},
     "output_type": "execute_result"
    }
   ],
   "source": [
    "idfs"
   ]
  },
  {
   "cell_type": "code",
   "execution_count": 25,
   "id": "487811d9",
   "metadata": {},
   "outputs": [],
   "source": [
    "def computeTFIDF(tfBagOfWords, idfs):\n",
    "    tfidf = {}\n",
    "    for word, val in tfBagOfWords.items():\n",
    "        tfidf[word] = val * idfs[word]\n",
    "    return tfidf"
   ]
  },
  {
   "cell_type": "code",
   "execution_count": 26,
   "id": "7d802811",
   "metadata": {},
   "outputs": [],
   "source": [
    "tfidfA = computeTFIDF(tfA, idfs)\n",
    "tfidfB = computeTFIDF(tfB, idfs)\n",
    "df = pd.DataFrame([tfidfA, tfidfB])"
   ]
  },
  {
   "cell_type": "code",
   "execution_count": 27,
   "id": "963f0f1d",
   "metadata": {},
   "outputs": [
    {
     "data": {
      "text/html": [
       "<div>\n",
       "<style scoped>\n",
       "    .dataframe tbody tr th:only-of-type {\n",
       "        vertical-align: middle;\n",
       "    }\n",
       "\n",
       "    .dataframe tbody tr th {\n",
       "        vertical-align: top;\n",
       "    }\n",
       "\n",
       "    .dataframe thead th {\n",
       "        text-align: right;\n",
       "    }\n",
       "</style>\n",
       "<table border=\"1\" class=\"dataframe\">\n",
       "  <thead>\n",
       "    <tr style=\"text-align: right;\">\n",
       "      <th></th>\n",
       "      <th>annual</th>\n",
       "      <th>Pradesh</th>\n",
       "      <th>combat</th>\n",
       "      <th>activists,</th>\n",
       "      <th>of</th>\n",
       "      <th>carbon</th>\n",
       "      <th>day</th>\n",
       "      <th>across</th>\n",
       "      <th>250</th>\n",
       "      <th>led</th>\n",
       "      <th>...</th>\n",
       "      <th>to</th>\n",
       "      <th>The</th>\n",
       "      <th>campaign</th>\n",
       "      <th>state.</th>\n",
       "      <th>Uttar</th>\n",
       "      <th>Millions</th>\n",
       "      <th>by</th>\n",
       "      <th>India</th>\n",
       "      <th>took</th>\n",
       "      <th>country's</th>\n",
       "    </tr>\n",
       "  </thead>\n",
       "  <tbody>\n",
       "    <tr>\n",
       "      <th>0</th>\n",
       "      <td>0.023105</td>\n",
       "      <td>0.000000</td>\n",
       "      <td>0.000000</td>\n",
       "      <td>0.000000</td>\n",
       "      <td>0.023105</td>\n",
       "      <td>0.000000</td>\n",
       "      <td>0.023105</td>\n",
       "      <td>0.023105</td>\n",
       "      <td>0.023105</td>\n",
       "      <td>0.000000</td>\n",
       "      <td>...</td>\n",
       "      <td>0.000000</td>\n",
       "      <td>0.000000</td>\n",
       "      <td>0.000000</td>\n",
       "      <td>0.023105</td>\n",
       "      <td>0.000000</td>\n",
       "      <td>0.023105</td>\n",
       "      <td>0.000000</td>\n",
       "      <td>0.023105</td>\n",
       "      <td>0.023105</td>\n",
       "      <td>0.023105</td>\n",
       "    </tr>\n",
       "    <tr>\n",
       "      <th>1</th>\n",
       "      <td>0.000000</td>\n",
       "      <td>0.028881</td>\n",
       "      <td>0.028881</td>\n",
       "      <td>0.028881</td>\n",
       "      <td>0.000000</td>\n",
       "      <td>0.028881</td>\n",
       "      <td>0.000000</td>\n",
       "      <td>0.000000</td>\n",
       "      <td>0.000000</td>\n",
       "      <td>0.028881</td>\n",
       "      <td>...</td>\n",
       "      <td>0.028881</td>\n",
       "      <td>0.028881</td>\n",
       "      <td>0.028881</td>\n",
       "      <td>0.000000</td>\n",
       "      <td>0.028881</td>\n",
       "      <td>0.000000</td>\n",
       "      <td>0.028881</td>\n",
       "      <td>0.000000</td>\n",
       "      <td>0.000000</td>\n",
       "      <td>0.000000</td>\n",
       "    </tr>\n",
       "  </tbody>\n",
       "</table>\n",
       "<p>2 rows × 49 columns</p>\n",
       "</div>"
      ],
      "text/plain": [
       "     annual   Pradesh    combat  activists,        of    carbon       day  \\\n",
       "0  0.023105  0.000000  0.000000    0.000000  0.023105  0.000000  0.023105   \n",
       "1  0.000000  0.028881  0.028881    0.028881  0.000000  0.028881  0.000000   \n",
       "\n",
       "     across       250       led  ...        to       The  campaign    state.  \\\n",
       "0  0.023105  0.023105  0.000000  ...  0.000000  0.000000  0.000000  0.023105   \n",
       "1  0.000000  0.000000  0.028881  ...  0.028881  0.028881  0.028881  0.000000   \n",
       "\n",
       "      Uttar  Millions        by     India      took  country's  \n",
       "0  0.000000  0.023105  0.000000  0.023105  0.023105   0.023105  \n",
       "1  0.028881  0.000000  0.028881  0.000000  0.000000   0.000000  \n",
       "\n",
       "[2 rows x 49 columns]"
      ]
     },
     "execution_count": 27,
     "metadata": {},
     "output_type": "execute_result"
    }
   ],
   "source": [
    "df"
   ]
  },
  {
   "cell_type": "code",
   "execution_count": 28,
   "id": "71ee6718",
   "metadata": {},
   "outputs": [
    {
     "name": "stderr",
     "output_type": "stream",
     "text": [
      "/home/pict/.local/lib/python3.8/site-packages/sklearn/utils/deprecation.py:87: FutureWarning: Function get_feature_names is deprecated; get_feature_names is deprecated in 1.0 and will be removed in 1.2. Please use get_feature_names_out instead.\n",
      "  warnings.warn(msg, category=FutureWarning)\n"
     ]
    }
   ],
   "source": [
    "vectorizer = TfidfVectorizer()\n",
    "vectors = vectorizer.fit_transform([sent, sent2])\n",
    "feature_names = vectorizer.get_feature_names()\n",
    "dense = vectors.todense()\n",
    "denselist = dense.tolist()\n",
    "df = pd.DataFrame(denselist, columns=feature_names)"
   ]
  },
  {
   "cell_type": "code",
   "execution_count": 29,
   "id": "506607ab",
   "metadata": {},
   "outputs": [
    {
     "data": {
      "text/html": [
       "<div>\n",
       "<style scoped>\n",
       "    .dataframe tbody tr th:only-of-type {\n",
       "        vertical-align: middle;\n",
       "    }\n",
       "\n",
       "    .dataframe tbody tr th {\n",
       "        vertical-align: top;\n",
       "    }\n",
       "\n",
       "    .dataframe thead th {\n",
       "        text-align: right;\n",
       "    }\n",
       "</style>\n",
       "<table border=\"1\" class=\"dataframe\">\n",
       "  <thead>\n",
       "    <tr style=\"text-align: right;\">\n",
       "      <th></th>\n",
       "      <th>250</th>\n",
       "      <th>across</th>\n",
       "      <th>activists</th>\n",
       "      <th>an</th>\n",
       "      <th>and</th>\n",
       "      <th>annual</th>\n",
       "      <th>bid</th>\n",
       "      <th>by</th>\n",
       "      <th>campaign</th>\n",
       "      <th>carbon</th>\n",
       "      <th>...</th>\n",
       "      <th>state</th>\n",
       "      <th>sunday</th>\n",
       "      <th>than</th>\n",
       "      <th>the</th>\n",
       "      <th>to</th>\n",
       "      <th>took</th>\n",
       "      <th>tree</th>\n",
       "      <th>uttar</th>\n",
       "      <th>was</th>\n",
       "      <th>were</th>\n",
       "    </tr>\n",
       "  </thead>\n",
       "  <tbody>\n",
       "    <tr>\n",
       "      <th>0</th>\n",
       "      <td>0.180868</td>\n",
       "      <td>0.180868</td>\n",
       "      <td>0.000000</td>\n",
       "      <td>0.180868</td>\n",
       "      <td>0.000000</td>\n",
       "      <td>0.180868</td>\n",
       "      <td>0.000000</td>\n",
       "      <td>0.000000</td>\n",
       "      <td>0.000000</td>\n",
       "      <td>0.000000</td>\n",
       "      <td>...</td>\n",
       "      <td>0.128689</td>\n",
       "      <td>0.180868</td>\n",
       "      <td>0.180868</td>\n",
       "      <td>0.128689</td>\n",
       "      <td>0.000000</td>\n",
       "      <td>0.180868</td>\n",
       "      <td>0.180868</td>\n",
       "      <td>0.000000</td>\n",
       "      <td>0.000000</td>\n",
       "      <td>0.180868</td>\n",
       "    </tr>\n",
       "    <tr>\n",
       "      <th>1</th>\n",
       "      <td>0.000000</td>\n",
       "      <td>0.000000</td>\n",
       "      <td>0.206202</td>\n",
       "      <td>0.000000</td>\n",
       "      <td>0.412404</td>\n",
       "      <td>0.000000</td>\n",
       "      <td>0.206202</td>\n",
       "      <td>0.206202</td>\n",
       "      <td>0.206202</td>\n",
       "      <td>0.206202</td>\n",
       "      <td>...</td>\n",
       "      <td>0.146714</td>\n",
       "      <td>0.000000</td>\n",
       "      <td>0.000000</td>\n",
       "      <td>0.146714</td>\n",
       "      <td>0.206202</td>\n",
       "      <td>0.000000</td>\n",
       "      <td>0.000000</td>\n",
       "      <td>0.206202</td>\n",
       "      <td>0.206202</td>\n",
       "      <td>0.000000</td>\n",
       "    </tr>\n",
       "  </tbody>\n",
       "</table>\n",
       "<p>2 rows × 47 columns</p>\n",
       "</div>"
      ],
      "text/plain": [
       "        250    across  activists        an       and    annual       bid  \\\n",
       "0  0.180868  0.180868   0.000000  0.180868  0.000000  0.180868  0.000000   \n",
       "1  0.000000  0.000000   0.206202  0.000000  0.412404  0.000000  0.206202   \n",
       "\n",
       "         by  campaign    carbon  ...     state    sunday      than       the  \\\n",
       "0  0.000000  0.000000  0.000000  ...  0.128689  0.180868  0.180868  0.128689   \n",
       "1  0.206202  0.206202  0.206202  ...  0.146714  0.000000  0.000000  0.146714   \n",
       "\n",
       "         to      took      tree     uttar       was      were  \n",
       "0  0.000000  0.180868  0.180868  0.000000  0.000000  0.180868  \n",
       "1  0.206202  0.000000  0.000000  0.206202  0.206202  0.000000  \n",
       "\n",
       "[2 rows x 47 columns]"
      ]
     },
     "execution_count": 29,
     "metadata": {},
     "output_type": "execute_result"
    }
   ],
   "source": [
    "df"
   ]
  },
  {
   "cell_type": "code",
   "execution_count": null,
   "id": "a12fdfb3",
   "metadata": {},
   "outputs": [],
   "source": []
  }
 ],
 "metadata": {
  "kernelspec": {
   "display_name": "Python 3 (ipykernel)",
   "language": "python",
   "name": "python3"
  },
  "language_info": {
   "codemirror_mode": {
    "name": "ipython",
    "version": 3
   },
   "file_extension": ".py",
   "mimetype": "text/x-python",
   "name": "python",
   "nbconvert_exporter": "python",
   "pygments_lexer": "ipython3",
   "version": "3.8.10"
  }
 },
 "nbformat": 4,
 "nbformat_minor": 5
}
